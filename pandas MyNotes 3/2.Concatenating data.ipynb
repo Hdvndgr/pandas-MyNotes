{
 "cells": [
  {
   "cell_type": "markdown",
   "metadata": {},
   "source": [
    "<h1 style=\"color:cadetblue; font-size:2em;\">Appending & concatenating Series</h1>"
   ]
  },
  {
   "cell_type": "markdown",
   "metadata": {},
   "source": [
    "<div style=\"border:2px dashed darkcyan; padding:15px; font-size:18px;\">\n",
    "    <strong>concat() & .append()</strong>\n",
    "    <ul>\n",
    "        <li>Equivalence of concat() & .append():</li>\n",
    "            <ul>\n",
    "                <li>result1 = pd.concat([s1, s2, s3])</li>\n",
    "                <li>result2 = s1.append(s2).append(s3)</li>\n",
    "            </ul>\n",
    "        <li>result1 == result2 elementwise</li>\n",
    "    </ul>\n",
    "</div>"
   ]
  },
  {
   "cell_type": "code",
   "execution_count": 1,
   "metadata": {},
   "outputs": [],
   "source": [
    "import pandas as pd\n",
    "# Series of US States\n",
    "northeast = pd.Series(['CT', 'ME', 'MA', 'NH', 'RI', 'VT', 'NJ', 'NY', 'PA'])\n",
    "south = pd.Series(['DE', 'FL', 'GA', 'MD', 'NC', 'SC', 'VA', 'DC', 'WV', 'AL', 'KY', 'MS', 'TN', 'AR', 'LA', 'OK', 'TX'])\n",
    "midwest = pd.Series(['IL', 'IN', 'MN', 'MO', 'NE', 'ND', 'SD', 'IA', 'KS', 'MI', 'OH', 'WI'])\n",
    "west = pd.Series(['AZ', 'CO', 'ID', 'MT', 'NV', 'NM', 'UT', 'WY', 'AK', 'CA', 'HI', 'OR','WA'])\n"
   ]
  },
  {
   "cell_type": "code",
   "execution_count": 2,
   "metadata": {
    "cell_style": "split"
   },
   "outputs": [
    {
     "name": "stdout",
     "output_type": "stream",
     "text": [
      "0     CT\n",
      "1     ME\n",
      "2     MA\n",
      "3     NH\n",
      "4     RI\n",
      "5     VT\n",
      "6     NJ\n",
      "7     NY\n",
      "8     PA\n",
      "0     DE\n",
      "1     FL\n",
      "2     GA\n",
      "3     MD\n",
      "4     NC\n",
      "5     SC\n",
      "6     VA\n",
      "7     DC\n",
      "8     WV\n",
      "9     AL\n",
      "10    KY\n",
      "11    MS\n",
      "12    TN\n",
      "13    AR\n",
      "14    LA\n",
      "15    OK\n",
      "16    TX\n",
      "dtype: object\n"
     ]
    }
   ],
   "source": [
    "# Using .append()\n",
    "east = northeast.append(south)\n",
    "print(east)"
   ]
  },
  {
   "cell_type": "code",
   "execution_count": 3,
   "metadata": {
    "cell_style": "split"
   },
   "outputs": [
    {
     "name": "stdout",
     "output_type": "stream",
     "text": [
      "Int64Index([ 0,  1,  2,  3,  4,  5,  6,  7,  8,  0,  1,  2,  3,  4,  5,  6,  7,\n",
      "             8,  9, 10, 11, 12, 13, 14, 15, 16],\n",
      "           dtype='int64')\n"
     ]
    }
   ],
   "source": [
    "# The appended Index\n",
    "print(east.index)"
   ]
  },
  {
   "cell_type": "code",
   "execution_count": 4,
   "metadata": {
    "cell_style": "split"
   },
   "outputs": [
    {
     "name": "stdout",
     "output_type": "stream",
     "text": [
      "3    NH\n",
      "3    MD\n",
      "dtype: object\n"
     ]
    }
   ],
   "source": [
    "print(east.loc[3])"
   ]
  },
  {
   "cell_type": "code",
   "execution_count": 5,
   "metadata": {
    "cell_style": "center"
   },
   "outputs": [],
   "source": [
    "# Using .reset_index()\n",
    "new_east = northeast.append(south).reset_index(drop=True)"
   ]
  },
  {
   "cell_type": "code",
   "execution_count": 6,
   "metadata": {
    "cell_style": "split"
   },
   "outputs": [
    {
     "name": "stdout",
     "output_type": "stream",
     "text": [
      "0     CT\n",
      "1     ME\n",
      "2     MA\n",
      "3     NH\n",
      "4     RI\n",
      "5     VT\n",
      "6     NJ\n",
      "7     NY\n",
      "8     PA\n",
      "9     DE\n",
      "10    FL\n",
      "dtype: object\n"
     ]
    }
   ],
   "source": [
    "print(new_east.head(11))"
   ]
  },
  {
   "cell_type": "code",
   "execution_count": 7,
   "metadata": {
    "cell_style": "split"
   },
   "outputs": [
    {
     "name": "stdout",
     "output_type": "stream",
     "text": [
      "RangeIndex(start=0, stop=26, step=1)\n"
     ]
    }
   ],
   "source": [
    "print(new_east.index)"
   ]
  },
  {
   "cell_type": "markdown",
   "metadata": {},
   "source": [
    " "
   ]
  },
  {
   "cell_type": "code",
   "execution_count": 8,
   "metadata": {
    "cell_style": "split"
   },
   "outputs": [
    {
     "name": "stdout",
     "output_type": "stream",
     "text": [
      "0    CT\n",
      "1    ME\n",
      "2    MA\n",
      "3    NH\n",
      "4    RI\n",
      "5    VT\n",
      "6    NJ\n",
      "7    NY\n",
      "8    PA\n",
      "0    DE\n",
      "1    FL\n",
      "dtype: object\n"
     ]
    }
   ],
   "source": [
    "# Using concat()\n",
    "east = pd.concat([northeast, south])\n",
    "print(east.head(11))"
   ]
  },
  {
   "cell_type": "code",
   "execution_count": 9,
   "metadata": {
    "cell_style": "split"
   },
   "outputs": [
    {
     "name": "stdout",
     "output_type": "stream",
     "text": [
      "Int64Index([ 0,  1,  2,  3,  4,  5,  6,  7,  8,  0,  1,  2,  3,  4,  5,  6,  7,\n",
      "             8,  9, 10, 11, 12, 13, 14, 15, 16],\n",
      "           dtype='int64')\n"
     ]
    }
   ],
   "source": [
    "print(east.index)"
   ]
  },
  {
   "cell_type": "code",
   "execution_count": 10,
   "metadata": {},
   "outputs": [
    {
     "name": "stdout",
     "output_type": "stream",
     "text": [
      "0     CT\n",
      "1     ME\n",
      "2     MA\n",
      "3     NH\n",
      "4     RI\n",
      "5     VT\n",
      "6     NJ\n",
      "7     NY\n",
      "8     PA\n",
      "9     DE\n",
      "10    FL\n",
      "dtype: object\n"
     ]
    }
   ],
   "source": [
    "# Using ignore_index\n",
    "new_east = pd.concat([northeast, south], ignore_index=True)\n",
    "print(new_east.head(11))"
   ]
  },
  {
   "cell_type": "code",
   "execution_count": 11,
   "metadata": {},
   "outputs": [
    {
     "name": "stdout",
     "output_type": "stream",
     "text": [
      "RangeIndex(start=0, stop=26, step=1)\n"
     ]
    }
   ],
   "source": [
    "print(new_east.index)"
   ]
  },
  {
   "cell_type": "markdown",
   "metadata": {},
   "source": [
    "<h1 style=\"color:cadetblue; font-size:2em;\">Appending & concatenating DataFrames</h1>"
   ]
  },
  {
   "cell_type": "code",
   "execution_count": 13,
   "metadata": {},
   "outputs": [
    {
     "name": "stdout",
     "output_type": "stream",
     "text": [
      "<class 'pandas.core.frame.DataFrame'> (4, 1)\n",
      "<class 'pandas.core.frame.DataFrame'> (4, 1)\n"
     ]
    }
   ],
   "source": [
    "import pandas as pd\n",
    "pop1 = pd.read_csv('datasets/population_01.csv', index_col=0)\n",
    "pop2 = pd.read_csv('datasets/population_02.csv', index_col=0)\n",
    "print(type(pop1), pop1.shape)\n",
    "print(type(pop2), pop2.shape)"
   ]
  },
  {
   "cell_type": "code",
   "execution_count": 14,
   "metadata": {
    "cell_style": "split"
   },
   "outputs": [
    {
     "name": "stdout",
     "output_type": "stream",
     "text": [
      "               2010 Census Population\n",
      "Zip Code ZCTA                        \n",
      "66407                             479\n",
      "72732                            4716\n",
      "50579                            2405\n",
      "46241                           30670\n"
     ]
    }
   ],
   "source": [
    "print(pop1)"
   ]
  },
  {
   "cell_type": "code",
   "execution_count": 15,
   "metadata": {
    "cell_style": "split"
   },
   "outputs": [
    {
     "name": "stdout",
     "output_type": "stream",
     "text": [
      "               2010 Census Population\n",
      "Zip Code ZCTA                        \n",
      "12776                            2180\n",
      "76092                           26669\n",
      "98360                           12221\n",
      "49464                           27481\n"
     ]
    }
   ],
   "source": [
    "print(pop2)"
   ]
  },
  {
   "cell_type": "code",
   "execution_count": 16,
   "metadata": {},
   "outputs": [
    {
     "data": {
      "text/html": [
       "<div>\n",
       "<style scoped>\n",
       "    .dataframe tbody tr th:only-of-type {\n",
       "        vertical-align: middle;\n",
       "    }\n",
       "\n",
       "    .dataframe tbody tr th {\n",
       "        vertical-align: top;\n",
       "    }\n",
       "\n",
       "    .dataframe thead th {\n",
       "        text-align: right;\n",
       "    }\n",
       "</style>\n",
       "<table border=\"1\" class=\"dataframe\">\n",
       "  <thead>\n",
       "    <tr style=\"text-align: right;\">\n",
       "      <th></th>\n",
       "      <th>2010 Census Population</th>\n",
       "    </tr>\n",
       "    <tr>\n",
       "      <th>Zip Code ZCTA</th>\n",
       "      <th></th>\n",
       "    </tr>\n",
       "  </thead>\n",
       "  <tbody>\n",
       "    <tr>\n",
       "      <th>66407</th>\n",
       "      <td>479</td>\n",
       "    </tr>\n",
       "    <tr>\n",
       "      <th>72732</th>\n",
       "      <td>4716</td>\n",
       "    </tr>\n",
       "    <tr>\n",
       "      <th>50579</th>\n",
       "      <td>2405</td>\n",
       "    </tr>\n",
       "    <tr>\n",
       "      <th>46241</th>\n",
       "      <td>30670</td>\n",
       "    </tr>\n",
       "    <tr>\n",
       "      <th>12776</th>\n",
       "      <td>2180</td>\n",
       "    </tr>\n",
       "    <tr>\n",
       "      <th>76092</th>\n",
       "      <td>26669</td>\n",
       "    </tr>\n",
       "    <tr>\n",
       "      <th>98360</th>\n",
       "      <td>12221</td>\n",
       "    </tr>\n",
       "    <tr>\n",
       "      <th>49464</th>\n",
       "      <td>27481</td>\n",
       "    </tr>\n",
       "  </tbody>\n",
       "</table>\n",
       "</div>"
      ],
      "text/plain": [
       "               2010 Census Population\n",
       "Zip Code ZCTA                        \n",
       "66407                             479\n",
       "72732                            4716\n",
       "50579                            2405\n",
       "46241                           30670\n",
       "12776                            2180\n",
       "76092                           26669\n",
       "98360                           12221\n",
       "49464                           27481"
      ]
     },
     "execution_count": 16,
     "metadata": {},
     "output_type": "execute_result"
    }
   ],
   "source": [
    "# Appending population DataFrames\n",
    "pop1.append(pop2)"
   ]
  },
  {
   "cell_type": "code",
   "execution_count": 17,
   "metadata": {},
   "outputs": [
    {
     "name": "stdout",
     "output_type": "stream",
     "text": [
      "Zip Code ZCTA Index(['2010 Census Population'], dtype='object')\n"
     ]
    }
   ],
   "source": [
    "print(pop1.index.name, pop1.columns)"
   ]
  },
  {
   "cell_type": "code",
   "execution_count": 18,
   "metadata": {},
   "outputs": [
    {
     "name": "stdout",
     "output_type": "stream",
     "text": [
      "Zip Code ZCTA Index(['2010 Census Population'], dtype='object')\n"
     ]
    }
   ],
   "source": [
    "print(pop2.index.name, pop2.columns)"
   ]
  },
  {
   "cell_type": "code",
   "execution_count": 19,
   "metadata": {},
   "outputs": [],
   "source": [
    "# Population & unemployment data\n",
    "population = pd.read_csv('datasets/population_00.csv', index_col=0)\n",
    "unemployment = pd.read_csv('datasets/unemployment_00.csv', index_col=0)"
   ]
  },
  {
   "cell_type": "code",
   "execution_count": 20,
   "metadata": {
    "cell_style": "split"
   },
   "outputs": [
    {
     "name": "stdout",
     "output_type": "stream",
     "text": [
      "               2010 Census Population\n",
      "Zip Code ZCTA                        \n",
      "57538                             322\n",
      "59916                             130\n",
      "37660                           40038\n",
      "2860                            45199\n"
     ]
    }
   ],
   "source": [
    "print(population)"
   ]
  },
  {
   "cell_type": "code",
   "execution_count": 21,
   "metadata": {
    "cell_style": "split"
   },
   "outputs": [
    {
     "name": "stdout",
     "output_type": "stream",
     "text": [
      "       unemployment  participants\n",
      "Zip                              \n",
      "2860           0.11         34447\n",
      "46167          0.02          4800\n",
      "1097           0.33            42\n",
      "80808          0.07          4310\n"
     ]
    }
   ],
   "source": [
    "print(unemployment)"
   ]
  },
  {
   "cell_type": "code",
   "execution_count": 22,
   "metadata": {},
   "outputs": [
    {
     "name": "stderr",
     "output_type": "stream",
     "text": [
      "C:\\Users\\mhboz\\Anaconda3\\lib\\site-packages\\pandas\\core\\frame.py:6211: FutureWarning: Sorting because non-concatenation axis is not aligned. A future version\n",
      "of pandas will change to not sort by default.\n",
      "\n",
      "To accept the future behavior, pass 'sort=False'.\n",
      "\n",
      "To retain the current behavior and silence the warning, pass 'sort=True'.\n",
      "\n",
      "  sort=sort)\n"
     ]
    },
    {
     "data": {
      "text/html": [
       "<div>\n",
       "<style scoped>\n",
       "    .dataframe tbody tr th:only-of-type {\n",
       "        vertical-align: middle;\n",
       "    }\n",
       "\n",
       "    .dataframe tbody tr th {\n",
       "        vertical-align: top;\n",
       "    }\n",
       "\n",
       "    .dataframe thead th {\n",
       "        text-align: right;\n",
       "    }\n",
       "</style>\n",
       "<table border=\"1\" class=\"dataframe\">\n",
       "  <thead>\n",
       "    <tr style=\"text-align: right;\">\n",
       "      <th></th>\n",
       "      <th>2010 Census Population</th>\n",
       "      <th>participants</th>\n",
       "      <th>unemployment</th>\n",
       "    </tr>\n",
       "  </thead>\n",
       "  <tbody>\n",
       "    <tr>\n",
       "      <th>57538</th>\n",
       "      <td>322.0</td>\n",
       "      <td>NaN</td>\n",
       "      <td>NaN</td>\n",
       "    </tr>\n",
       "    <tr>\n",
       "      <th>59916</th>\n",
       "      <td>130.0</td>\n",
       "      <td>NaN</td>\n",
       "      <td>NaN</td>\n",
       "    </tr>\n",
       "    <tr>\n",
       "      <th>37660</th>\n",
       "      <td>40038.0</td>\n",
       "      <td>NaN</td>\n",
       "      <td>NaN</td>\n",
       "    </tr>\n",
       "    <tr>\n",
       "      <th>2860</th>\n",
       "      <td>45199.0</td>\n",
       "      <td>NaN</td>\n",
       "      <td>NaN</td>\n",
       "    </tr>\n",
       "    <tr>\n",
       "      <th>2860</th>\n",
       "      <td>NaN</td>\n",
       "      <td>34447.0</td>\n",
       "      <td>0.11</td>\n",
       "    </tr>\n",
       "    <tr>\n",
       "      <th>46167</th>\n",
       "      <td>NaN</td>\n",
       "      <td>4800.0</td>\n",
       "      <td>0.02</td>\n",
       "    </tr>\n",
       "    <tr>\n",
       "      <th>1097</th>\n",
       "      <td>NaN</td>\n",
       "      <td>42.0</td>\n",
       "      <td>0.33</td>\n",
       "    </tr>\n",
       "    <tr>\n",
       "      <th>80808</th>\n",
       "      <td>NaN</td>\n",
       "      <td>4310.0</td>\n",
       "      <td>0.07</td>\n",
       "    </tr>\n",
       "  </tbody>\n",
       "</table>\n",
       "</div>"
      ],
      "text/plain": [
       "       2010 Census Population  participants  unemployment\n",
       "57538                   322.0           NaN           NaN\n",
       "59916                   130.0           NaN           NaN\n",
       "37660                 40038.0           NaN           NaN\n",
       "2860                  45199.0           NaN           NaN\n",
       "2860                      NaN       34447.0          0.11\n",
       "46167                     NaN        4800.0          0.02\n",
       "1097                      NaN          42.0          0.33\n",
       "80808                     NaN        4310.0          0.07"
      ]
     },
     "execution_count": 22,
     "metadata": {},
     "output_type": "execute_result"
    }
   ],
   "source": [
    "# Appending population & unemployment\n",
    "population.append(unemployment)"
   ]
  },
  {
   "cell_type": "code",
   "execution_count": 23,
   "metadata": {},
   "outputs": [
    {
     "name": "stderr",
     "output_type": "stream",
     "text": [
      "C:\\Users\\mhboz\\Anaconda3\\lib\\site-packages\\ipykernel_launcher.py:2: FutureWarning: Sorting because non-concatenation axis is not aligned. A future version\n",
      "of pandas will change to not sort by default.\n",
      "\n",
      "To accept the future behavior, pass 'sort=False'.\n",
      "\n",
      "To retain the current behavior and silence the warning, pass 'sort=True'.\n",
      "\n",
      "  \n"
     ]
    },
    {
     "data": {
      "text/html": [
       "<div>\n",
       "<style scoped>\n",
       "    .dataframe tbody tr th:only-of-type {\n",
       "        vertical-align: middle;\n",
       "    }\n",
       "\n",
       "    .dataframe tbody tr th {\n",
       "        vertical-align: top;\n",
       "    }\n",
       "\n",
       "    .dataframe thead th {\n",
       "        text-align: right;\n",
       "    }\n",
       "</style>\n",
       "<table border=\"1\" class=\"dataframe\">\n",
       "  <thead>\n",
       "    <tr style=\"text-align: right;\">\n",
       "      <th></th>\n",
       "      <th>2010 Census Population</th>\n",
       "      <th>participants</th>\n",
       "      <th>unemployment</th>\n",
       "    </tr>\n",
       "  </thead>\n",
       "  <tbody>\n",
       "    <tr>\n",
       "      <th>57538</th>\n",
       "      <td>322.0</td>\n",
       "      <td>NaN</td>\n",
       "      <td>NaN</td>\n",
       "    </tr>\n",
       "    <tr>\n",
       "      <th>59916</th>\n",
       "      <td>130.0</td>\n",
       "      <td>NaN</td>\n",
       "      <td>NaN</td>\n",
       "    </tr>\n",
       "    <tr>\n",
       "      <th>37660</th>\n",
       "      <td>40038.0</td>\n",
       "      <td>NaN</td>\n",
       "      <td>NaN</td>\n",
       "    </tr>\n",
       "    <tr>\n",
       "      <th>2860</th>\n",
       "      <td>45199.0</td>\n",
       "      <td>NaN</td>\n",
       "      <td>NaN</td>\n",
       "    </tr>\n",
       "    <tr>\n",
       "      <th>2860</th>\n",
       "      <td>NaN</td>\n",
       "      <td>34447.0</td>\n",
       "      <td>0.11</td>\n",
       "    </tr>\n",
       "    <tr>\n",
       "      <th>46167</th>\n",
       "      <td>NaN</td>\n",
       "      <td>4800.0</td>\n",
       "      <td>0.02</td>\n",
       "    </tr>\n",
       "    <tr>\n",
       "      <th>1097</th>\n",
       "      <td>NaN</td>\n",
       "      <td>42.0</td>\n",
       "      <td>0.33</td>\n",
       "    </tr>\n",
       "    <tr>\n",
       "      <th>80808</th>\n",
       "      <td>NaN</td>\n",
       "      <td>4310.0</td>\n",
       "      <td>0.07</td>\n",
       "    </tr>\n",
       "  </tbody>\n",
       "</table>\n",
       "</div>"
      ],
      "text/plain": [
       "       2010 Census Population  participants  unemployment\n",
       "57538                   322.0           NaN           NaN\n",
       "59916                   130.0           NaN           NaN\n",
       "37660                 40038.0           NaN           NaN\n",
       "2860                  45199.0           NaN           NaN\n",
       "2860                      NaN       34447.0          0.11\n",
       "46167                     NaN        4800.0          0.02\n",
       "1097                      NaN          42.0          0.33\n",
       "80808                     NaN        4310.0          0.07"
      ]
     },
     "execution_count": 23,
     "metadata": {},
     "output_type": "execute_result"
    }
   ],
   "source": [
    "# Concatenating rows\n",
    "pd.concat([population, unemployment], axis=0)"
   ]
  },
  {
   "cell_type": "code",
   "execution_count": 25,
   "metadata": {},
   "outputs": [
    {
     "data": {
      "text/html": [
       "<div>\n",
       "<style scoped>\n",
       "    .dataframe tbody tr th:only-of-type {\n",
       "        vertical-align: middle;\n",
       "    }\n",
       "\n",
       "    .dataframe tbody tr th {\n",
       "        vertical-align: top;\n",
       "    }\n",
       "\n",
       "    .dataframe thead th {\n",
       "        text-align: right;\n",
       "    }\n",
       "</style>\n",
       "<table border=\"1\" class=\"dataframe\">\n",
       "  <thead>\n",
       "    <tr style=\"text-align: right;\">\n",
       "      <th></th>\n",
       "      <th>2010 Census Population</th>\n",
       "      <th>unemployment</th>\n",
       "      <th>participants</th>\n",
       "    </tr>\n",
       "  </thead>\n",
       "  <tbody>\n",
       "    <tr>\n",
       "      <th>1097</th>\n",
       "      <td>NaN</td>\n",
       "      <td>0.33</td>\n",
       "      <td>42.0</td>\n",
       "    </tr>\n",
       "    <tr>\n",
       "      <th>2860</th>\n",
       "      <td>45199.0</td>\n",
       "      <td>0.11</td>\n",
       "      <td>34447.0</td>\n",
       "    </tr>\n",
       "    <tr>\n",
       "      <th>37660</th>\n",
       "      <td>40038.0</td>\n",
       "      <td>NaN</td>\n",
       "      <td>NaN</td>\n",
       "    </tr>\n",
       "    <tr>\n",
       "      <th>46167</th>\n",
       "      <td>NaN</td>\n",
       "      <td>0.02</td>\n",
       "      <td>4800.0</td>\n",
       "    </tr>\n",
       "    <tr>\n",
       "      <th>57538</th>\n",
       "      <td>322.0</td>\n",
       "      <td>NaN</td>\n",
       "      <td>NaN</td>\n",
       "    </tr>\n",
       "    <tr>\n",
       "      <th>59916</th>\n",
       "      <td>130.0</td>\n",
       "      <td>NaN</td>\n",
       "      <td>NaN</td>\n",
       "    </tr>\n",
       "    <tr>\n",
       "      <th>80808</th>\n",
       "      <td>NaN</td>\n",
       "      <td>0.07</td>\n",
       "      <td>4310.0</td>\n",
       "    </tr>\n",
       "  </tbody>\n",
       "</table>\n",
       "</div>"
      ],
      "text/plain": [
       "       2010 Census Population  unemployment  participants\n",
       "1097                      NaN          0.33          42.0\n",
       "2860                  45199.0          0.11       34447.0\n",
       "37660                 40038.0           NaN           NaN\n",
       "46167                     NaN          0.02        4800.0\n",
       "57538                   322.0           NaN           NaN\n",
       "59916                   130.0           NaN           NaN\n",
       "80808                     NaN          0.07        4310.0"
      ]
     },
     "execution_count": 25,
     "metadata": {},
     "output_type": "execute_result"
    }
   ],
   "source": [
    "# Concatenating columns\n",
    "pd.concat([population, unemployment], axis=1)"
   ]
  },
  {
   "cell_type": "markdown",
   "metadata": {},
   "source": [
    "<h1 style=\"color:cadetblue; font-size:2em;\">Concatenation, keys, & MultiIndexes</h1>"
   ]
  },
  {
   "cell_type": "code",
   "execution_count": 28,
   "metadata": {},
   "outputs": [],
   "source": [
    "import pandas as pd\n",
    "file1 = 'datasets/q1_rainfall_2013.csv'\n",
    "rain2013 = pd.read_csv(file1, index_col='Month', parse_dates=True)\n",
    "file2 = 'datasets/q1_rainfall_2014.csv'\n",
    "rain2014 = pd.read_csv(file2, index_col='Month', parse_dates=True)"
   ]
  },
  {
   "cell_type": "code",
   "execution_count": 29,
   "metadata": {
    "cell_style": "split"
   },
   "outputs": [
    {
     "name": "stdout",
     "output_type": "stream",
     "text": [
      "       Precipitation\n",
      "Month               \n",
      "Jan         0.096129\n",
      "Feb         0.067143\n",
      "Mar         0.061613\n"
     ]
    }
   ],
   "source": [
    "print(rain2013)"
   ]
  },
  {
   "cell_type": "code",
   "execution_count": 30,
   "metadata": {
    "cell_style": "split"
   },
   "outputs": [
    {
     "name": "stdout",
     "output_type": "stream",
     "text": [
      "       Precipitation\n",
      "Month               \n",
      "Jan         0.050323\n",
      "Feb         0.082143\n",
      "Mar         0.070968\n"
     ]
    }
   ],
   "source": [
    "print(rain2014)"
   ]
  },
  {
   "cell_type": "code",
   "execution_count": 31,
   "metadata": {},
   "outputs": [
    {
     "data": {
      "text/html": [
       "<div>\n",
       "<style scoped>\n",
       "    .dataframe tbody tr th:only-of-type {\n",
       "        vertical-align: middle;\n",
       "    }\n",
       "\n",
       "    .dataframe tbody tr th {\n",
       "        vertical-align: top;\n",
       "    }\n",
       "\n",
       "    .dataframe thead th {\n",
       "        text-align: right;\n",
       "    }\n",
       "</style>\n",
       "<table border=\"1\" class=\"dataframe\">\n",
       "  <thead>\n",
       "    <tr style=\"text-align: right;\">\n",
       "      <th></th>\n",
       "      <th>Precipitation</th>\n",
       "    </tr>\n",
       "    <tr>\n",
       "      <th>Month</th>\n",
       "      <th></th>\n",
       "    </tr>\n",
       "  </thead>\n",
       "  <tbody>\n",
       "    <tr>\n",
       "      <th>Jan</th>\n",
       "      <td>0.096129</td>\n",
       "    </tr>\n",
       "    <tr>\n",
       "      <th>Feb</th>\n",
       "      <td>0.067143</td>\n",
       "    </tr>\n",
       "    <tr>\n",
       "      <th>Mar</th>\n",
       "      <td>0.061613</td>\n",
       "    </tr>\n",
       "    <tr>\n",
       "      <th>Jan</th>\n",
       "      <td>0.050323</td>\n",
       "    </tr>\n",
       "    <tr>\n",
       "      <th>Feb</th>\n",
       "      <td>0.082143</td>\n",
       "    </tr>\n",
       "    <tr>\n",
       "      <th>Mar</th>\n",
       "      <td>0.070968</td>\n",
       "    </tr>\n",
       "  </tbody>\n",
       "</table>\n",
       "</div>"
      ],
      "text/plain": [
       "       Precipitation\n",
       "Month               \n",
       "Jan         0.096129\n",
       "Feb         0.067143\n",
       "Mar         0.061613\n",
       "Jan         0.050323\n",
       "Feb         0.082143\n",
       "Mar         0.070968"
      ]
     },
     "execution_count": 31,
     "metadata": {},
     "output_type": "execute_result"
    }
   ],
   "source": [
    "# Concatenating rows\n",
    "pd.concat([rain2013, rain2014], axis=0)"
   ]
  },
  {
   "cell_type": "code",
   "execution_count": 32,
   "metadata": {},
   "outputs": [
    {
     "name": "stdout",
     "output_type": "stream",
     "text": [
      "            Precipitation\n",
      "     Month               \n",
      "2013 Jan         0.096129\n",
      "     Feb         0.067143\n",
      "     Mar         0.061613\n",
      "2014 Jan         0.050323\n",
      "     Feb         0.082143\n",
      "     Mar         0.070968\n"
     ]
    }
   ],
   "source": [
    "# Using multi-index on rows\n",
    "rain1314 = pd.concat([rain2013, rain2014], keys=[2013, 2014], axis=0)\n",
    "print(rain1314)"
   ]
  },
  {
   "cell_type": "code",
   "execution_count": 33,
   "metadata": {},
   "outputs": [
    {
     "name": "stdout",
     "output_type": "stream",
     "text": [
      "       Precipitation\n",
      "Month               \n",
      "Jan         0.050323\n",
      "Feb         0.082143\n",
      "Mar         0.070968\n"
     ]
    }
   ],
   "source": [
    "# Accessing a multi-index\n",
    "print(rain1314.loc[2014])"
   ]
  },
  {
   "cell_type": "code",
   "execution_count": 34,
   "metadata": {},
   "outputs": [
    {
     "name": "stdout",
     "output_type": "stream",
     "text": [
      "       Precipitation  Precipitation\n",
      "Month                              \n",
      "Jan         0.096129       0.050323\n",
      "Feb         0.067143       0.082143\n",
      "Mar         0.061613       0.070968\n"
     ]
    }
   ],
   "source": [
    "# Concatenating columns\n",
    "rain1314 = pd.concat([rain2013, rain2014], axis='columns')\n",
    "print(rain1314)"
   ]
  },
  {
   "cell_type": "code",
   "execution_count": 35,
   "metadata": {},
   "outputs": [
    {
     "name": "stdout",
     "output_type": "stream",
     "text": [
      "               2013          2014\n",
      "      Precipitation Precipitation\n",
      "Month                            \n",
      "Jan        0.096129      0.050323\n",
      "Feb        0.067143      0.082143\n",
      "Mar        0.061613      0.070968\n"
     ]
    }
   ],
   "source": [
    "# Using a multi-index on columns\n",
    "rain1314 = pd.concat([rain2013, rain2014], keys=[2013, 2014], axis='columns')\n",
    "print(rain1314)"
   ]
  },
  {
   "cell_type": "code",
   "execution_count": 36,
   "metadata": {},
   "outputs": [
    {
     "data": {
      "text/html": [
       "<div>\n",
       "<style scoped>\n",
       "    .dataframe tbody tr th:only-of-type {\n",
       "        vertical-align: middle;\n",
       "    }\n",
       "\n",
       "    .dataframe tbody tr th {\n",
       "        vertical-align: top;\n",
       "    }\n",
       "\n",
       "    .dataframe thead th {\n",
       "        text-align: right;\n",
       "    }\n",
       "</style>\n",
       "<table border=\"1\" class=\"dataframe\">\n",
       "  <thead>\n",
       "    <tr style=\"text-align: right;\">\n",
       "      <th></th>\n",
       "      <th>Precipitation</th>\n",
       "    </tr>\n",
       "    <tr>\n",
       "      <th>Month</th>\n",
       "      <th></th>\n",
       "    </tr>\n",
       "  </thead>\n",
       "  <tbody>\n",
       "    <tr>\n",
       "      <th>Jan</th>\n",
       "      <td>0.096129</td>\n",
       "    </tr>\n",
       "    <tr>\n",
       "      <th>Feb</th>\n",
       "      <td>0.067143</td>\n",
       "    </tr>\n",
       "    <tr>\n",
       "      <th>Mar</th>\n",
       "      <td>0.061613</td>\n",
       "    </tr>\n",
       "  </tbody>\n",
       "</table>\n",
       "</div>"
      ],
      "text/plain": [
       "       Precipitation\n",
       "Month               \n",
       "Jan         0.096129\n",
       "Feb         0.067143\n",
       "Mar         0.061613"
      ]
     },
     "execution_count": 36,
     "metadata": {},
     "output_type": "execute_result"
    }
   ],
   "source": [
    "rain1314[2013]"
   ]
  },
  {
   "cell_type": "code",
   "execution_count": 37,
   "metadata": {},
   "outputs": [
    {
     "name": "stdout",
     "output_type": "stream",
     "text": [
      "               2013          2014\n",
      "      Precipitation Precipitation\n",
      "Month                            \n",
      "Jan        0.096129      0.050323\n",
      "Feb        0.067143      0.082143\n",
      "Mar        0.061613      0.070968\n"
     ]
    }
   ],
   "source": [
    "# pd.concat() with dict\n",
    "rain_dict = {2013: rain2013, 2014: rain2014}\n",
    "rain1314 = pd.concat(rain_dict, axis='columns')\n",
    "print(rain1314)"
   ]
  },
  {
   "cell_type": "markdown",
   "metadata": {},
   "source": [
    "<h1 style=\"color:cadetblue; font-size:2em;\">Outer & inner joins</h1>"
   ]
  },
  {
   "cell_type": "code",
   "execution_count": 43,
   "metadata": {},
   "outputs": [],
   "source": [
    "# Using with arrays\n",
    "import numpy as np\n",
    "import pandas as pd"
   ]
  },
  {
   "cell_type": "code",
   "execution_count": 44,
   "metadata": {},
   "outputs": [
    {
     "name": "stdout",
     "output_type": "stream",
     "text": [
      "[[0.1 1.1 2.1 3.1]\n",
      " [4.1 5.1 6.1 7.1]]\n"
     ]
    }
   ],
   "source": [
    "A = np.arange(8).reshape(2,4) + 0.1\n",
    "print(A)"
   ]
  },
  {
   "cell_type": "code",
   "execution_count": 45,
   "metadata": {},
   "outputs": [
    {
     "name": "stdout",
     "output_type": "stream",
     "text": [
      "[[0.2 1.2 2.2]\n",
      " [3.2 4.2 5.2]]\n"
     ]
    }
   ],
   "source": [
    "B = np.arange(6).reshape(2,3) + 0.2\n",
    "print(B)"
   ]
  },
  {
   "cell_type": "code",
   "execution_count": 46,
   "metadata": {},
   "outputs": [
    {
     "name": "stdout",
     "output_type": "stream",
     "text": [
      "[[ 0.3  1.3  2.3  3.3]\n",
      " [ 4.3  5.3  6.3  7.3]\n",
      " [ 8.3  9.3 10.3 11.3]]\n"
     ]
    }
   ],
   "source": [
    "C = np.arange(12).reshape(3,4) + 0.3\n",
    "print(C)"
   ]
  },
  {
   "cell_type": "code",
   "execution_count": 48,
   "metadata": {},
   "outputs": [
    {
     "data": {
      "text/plain": [
       "array([[0.2, 1.2, 2.2, 0.1, 1.1, 2.1, 3.1],\n",
       "       [3.2, 4.2, 5.2, 4.1, 5.1, 6.1, 7.1]])"
      ]
     },
     "execution_count": 48,
     "metadata": {},
     "output_type": "execute_result"
    }
   ],
   "source": [
    "# Stacking arrays horizontally\n",
    "np.hstack([B, A])"
   ]
  },
  {
   "cell_type": "code",
   "execution_count": 49,
   "metadata": {},
   "outputs": [
    {
     "data": {
      "text/plain": [
       "array([[0.2, 1.2, 2.2, 0.1, 1.1, 2.1, 3.1],\n",
       "       [3.2, 4.2, 5.2, 4.1, 5.1, 6.1, 7.1]])"
      ]
     },
     "execution_count": 49,
     "metadata": {},
     "output_type": "execute_result"
    }
   ],
   "source": [
    "np.concatenate([B, A], axis=1)"
   ]
  },
  {
   "cell_type": "code",
   "execution_count": 50,
   "metadata": {},
   "outputs": [
    {
     "data": {
      "text/plain": [
       "array([[ 0.1,  1.1,  2.1,  3.1],\n",
       "       [ 4.1,  5.1,  6.1,  7.1],\n",
       "       [ 0.3,  1.3,  2.3,  3.3],\n",
       "       [ 4.3,  5.3,  6.3,  7.3],\n",
       "       [ 8.3,  9.3, 10.3, 11.3]])"
      ]
     },
     "execution_count": 50,
     "metadata": {},
     "output_type": "execute_result"
    }
   ],
   "source": [
    "# Stacking arrays vertically\n",
    "np.vstack([A, C])"
   ]
  },
  {
   "cell_type": "code",
   "execution_count": 51,
   "metadata": {},
   "outputs": [
    {
     "data": {
      "text/plain": [
       "array([[ 0.1,  1.1,  2.1,  3.1],\n",
       "       [ 4.1,  5.1,  6.1,  7.1],\n",
       "       [ 0.3,  1.3,  2.3,  3.3],\n",
       "       [ 4.3,  5.3,  6.3,  7.3],\n",
       "       [ 8.3,  9.3, 10.3, 11.3]])"
      ]
     },
     "execution_count": 51,
     "metadata": {},
     "output_type": "execute_result"
    }
   ],
   "source": [
    "np.concatenate([A, C], axis=0)"
   ]
  },
  {
   "cell_type": "code",
   "execution_count": 53,
   "metadata": {},
   "outputs": [
    {
     "ename": "ValueError",
     "evalue": "all the input array dimensions except for the concatenation axis must match exactly",
     "output_type": "error",
     "traceback": [
      "\u001b[1;31m---------------------------------------------------------------------------\u001b[0m",
      "\u001b[1;31mValueError\u001b[0m                                Traceback (most recent call last)",
      "\u001b[1;32m<ipython-input-53-b09c6221c88d>\u001b[0m in \u001b[0;36m<module>\u001b[1;34m()\u001b[0m\n\u001b[0;32m      1\u001b[0m \u001b[1;31m# Incompatible array dimensions\u001b[0m\u001b[1;33m\u001b[0m\u001b[1;33m\u001b[0m\u001b[0m\n\u001b[1;32m----> 2\u001b[1;33m \u001b[0mnp\u001b[0m\u001b[1;33m.\u001b[0m\u001b[0mconcatenate\u001b[0m\u001b[1;33m(\u001b[0m\u001b[1;33m[\u001b[0m\u001b[0mA\u001b[0m\u001b[1;33m,\u001b[0m \u001b[0mB\u001b[0m\u001b[1;33m]\u001b[0m\u001b[1;33m,\u001b[0m \u001b[0maxis\u001b[0m\u001b[1;33m=\u001b[0m\u001b[1;36m0\u001b[0m\u001b[1;33m)\u001b[0m \u001b[1;31m# incompatible columns\u001b[0m\u001b[1;33m\u001b[0m\u001b[0m\n\u001b[0m",
      "\u001b[1;31mValueError\u001b[0m: all the input array dimensions except for the concatenation axis must match exactly"
     ]
    }
   ],
   "source": [
    "# Incompatible array dimensions\n",
    "np.concatenate([A, B], axis=0) # incompatible columns"
   ]
  },
  {
   "cell_type": "code",
   "execution_count": 54,
   "metadata": {},
   "outputs": [
    {
     "ename": "ValueError",
     "evalue": "all the input array dimensions except for the concatenation axis must match exactly",
     "output_type": "error",
     "traceback": [
      "\u001b[1;31m---------------------------------------------------------------------------\u001b[0m",
      "\u001b[1;31mValueError\u001b[0m                                Traceback (most recent call last)",
      "\u001b[1;32m<ipython-input-54-4817b1d23978>\u001b[0m in \u001b[0;36m<module>\u001b[1;34m()\u001b[0m\n\u001b[1;32m----> 1\u001b[1;33m \u001b[0mnp\u001b[0m\u001b[1;33m.\u001b[0m\u001b[0mconcatenate\u001b[0m\u001b[1;33m(\u001b[0m\u001b[1;33m[\u001b[0m\u001b[0mA\u001b[0m\u001b[1;33m,\u001b[0m \u001b[0mC\u001b[0m\u001b[1;33m]\u001b[0m\u001b[1;33m,\u001b[0m \u001b[0maxis\u001b[0m\u001b[1;33m=\u001b[0m\u001b[1;36m1\u001b[0m\u001b[1;33m)\u001b[0m \u001b[1;31m# incompatible rows\u001b[0m\u001b[1;33m\u001b[0m\u001b[0m\n\u001b[0m",
      "\u001b[1;31mValueError\u001b[0m: all the input array dimensions except for the concatenation axis must match exactly"
     ]
    }
   ],
   "source": [
    "np.concatenate([A, C], axis=1) # incompatible rows"
   ]
  },
  {
   "cell_type": "code",
   "execution_count": 56,
   "metadata": {},
   "outputs": [],
   "source": [
    "# Population & unemployment data\n",
    "population = pd.read_csv('datasets/population_00.csv', index_col=0)\n",
    "unemployment = pd.read_csv('datasets/unemployment_00.csv', index_col=0)"
   ]
  },
  {
   "cell_type": "code",
   "execution_count": 57,
   "metadata": {
    "cell_style": "split"
   },
   "outputs": [
    {
     "name": "stdout",
     "output_type": "stream",
     "text": [
      "               2010 Census Population\n",
      "Zip Code ZCTA                        \n",
      "57538                             322\n",
      "59916                             130\n",
      "37660                           40038\n",
      "2860                            45199\n"
     ]
    }
   ],
   "source": [
    "print(population)"
   ]
  },
  {
   "cell_type": "code",
   "execution_count": 58,
   "metadata": {
    "cell_style": "split"
   },
   "outputs": [
    {
     "name": "stdout",
     "output_type": "stream",
     "text": [
      "       unemployment  participants\n",
      "Zip                              \n",
      "2860           0.11         34447\n",
      "46167          0.02          4800\n",
      "1097           0.33            42\n",
      "80808          0.07          4310\n"
     ]
    }
   ],
   "source": [
    "print(unemployment)"
   ]
  },
  {
   "cell_type": "code",
   "execution_count": 59,
   "metadata": {
    "cell_style": "split"
   },
   "outputs": [
    {
     "name": "stdout",
     "output_type": "stream",
     "text": [
      "[[  322]\n",
      " [  130]\n",
      " [40038]\n",
      " [45199]]\n"
     ]
    }
   ],
   "source": [
    "# Converting to arrays\n",
    "population_array = np.array(population)\n",
    "print(population_array) # Index info is lost"
   ]
  },
  {
   "cell_type": "code",
   "execution_count": 60,
   "metadata": {
    "cell_style": "split"
   },
   "outputs": [
    {
     "name": "stdout",
     "output_type": "stream",
     "text": [
      "[[  322]\n",
      " [  130]\n",
      " [40038]\n",
      " [45199]]\n"
     ]
    }
   ],
   "source": [
    "unemployment_array = np.array(unemployment)\n",
    "print(population_array)"
   ]
  },
  {
   "cell_type": "code",
   "execution_count": 62,
   "metadata": {},
   "outputs": [
    {
     "name": "stdout",
     "output_type": "stream",
     "text": [
      "[[3.2200e+02 1.1000e-01 3.4447e+04]\n",
      " [1.3000e+02 2.0000e-02 4.8000e+03]\n",
      " [4.0038e+04 3.3000e-01 4.2000e+01]\n",
      " [4.5199e+04 7.0000e-02 4.3100e+03]]\n"
     ]
    }
   ],
   "source": [
    "# Manipulating data as arrays\n",
    "print(np.concatenate([population_array, unemployment_array], axis=1))"
   ]
  },
  {
   "cell_type": "markdown",
   "metadata": {},
   "source": [
    "<div style=\"border:2px dashed darkcyan; padding:15px; font-size:18px;\">\n",
    "    <strong>Joins</strong>\n",
    "    <ul>\n",
    "        <li>Joining tables: Combining rows of multiple tables</li>\n",
    "        <li>Outer join</li>\n",
    "            <ul>\n",
    "                <li>Union of index sets (all labels, no repetition)</li>\n",
    "                <li>Missing fields filled with NaN</li>\n",
    "            </ul>\n",
    "        <li>Inner join</li>\n",
    "            <ul>\n",
    "                <li>Intersection of index sets (only common labels)</li>\n",
    "            </ul>\n",
    "    </ul>\n",
    "</div>"
   ]
  },
  {
   "cell_type": "code",
   "execution_count": 63,
   "metadata": {},
   "outputs": [
    {
     "data": {
      "text/html": [
       "<div>\n",
       "<style scoped>\n",
       "    .dataframe tbody tr th:only-of-type {\n",
       "        vertical-align: middle;\n",
       "    }\n",
       "\n",
       "    .dataframe tbody tr th {\n",
       "        vertical-align: top;\n",
       "    }\n",
       "\n",
       "    .dataframe thead th {\n",
       "        text-align: right;\n",
       "    }\n",
       "</style>\n",
       "<table border=\"1\" class=\"dataframe\">\n",
       "  <thead>\n",
       "    <tr style=\"text-align: right;\">\n",
       "      <th></th>\n",
       "      <th>2010 Census Population</th>\n",
       "      <th>unemployment</th>\n",
       "      <th>participants</th>\n",
       "    </tr>\n",
       "  </thead>\n",
       "  <tbody>\n",
       "    <tr>\n",
       "      <th>2860</th>\n",
       "      <td>45199</td>\n",
       "      <td>0.11</td>\n",
       "      <td>34447</td>\n",
       "    </tr>\n",
       "  </tbody>\n",
       "</table>\n",
       "</div>"
      ],
      "text/plain": [
       "      2010 Census Population  unemployment  participants\n",
       "2860                   45199          0.11         34447"
      ]
     },
     "execution_count": 63,
     "metadata": {},
     "output_type": "execute_result"
    }
   ],
   "source": [
    "# Concatenation & inner join\n",
    "pd.concat([population, unemployment], axis=1, join='inner')"
   ]
  },
  {
   "cell_type": "code",
   "execution_count": 64,
   "metadata": {},
   "outputs": [
    {
     "data": {
      "text/html": [
       "<div>\n",
       "<style scoped>\n",
       "    .dataframe tbody tr th:only-of-type {\n",
       "        vertical-align: middle;\n",
       "    }\n",
       "\n",
       "    .dataframe tbody tr th {\n",
       "        vertical-align: top;\n",
       "    }\n",
       "\n",
       "    .dataframe thead th {\n",
       "        text-align: right;\n",
       "    }\n",
       "</style>\n",
       "<table border=\"1\" class=\"dataframe\">\n",
       "  <thead>\n",
       "    <tr style=\"text-align: right;\">\n",
       "      <th></th>\n",
       "      <th>2010 Census Population</th>\n",
       "      <th>unemployment</th>\n",
       "      <th>participants</th>\n",
       "    </tr>\n",
       "  </thead>\n",
       "  <tbody>\n",
       "    <tr>\n",
       "      <th>1097</th>\n",
       "      <td>NaN</td>\n",
       "      <td>0.33</td>\n",
       "      <td>42.0</td>\n",
       "    </tr>\n",
       "    <tr>\n",
       "      <th>2860</th>\n",
       "      <td>45199.0</td>\n",
       "      <td>0.11</td>\n",
       "      <td>34447.0</td>\n",
       "    </tr>\n",
       "    <tr>\n",
       "      <th>37660</th>\n",
       "      <td>40038.0</td>\n",
       "      <td>NaN</td>\n",
       "      <td>NaN</td>\n",
       "    </tr>\n",
       "    <tr>\n",
       "      <th>46167</th>\n",
       "      <td>NaN</td>\n",
       "      <td>0.02</td>\n",
       "      <td>4800.0</td>\n",
       "    </tr>\n",
       "    <tr>\n",
       "      <th>57538</th>\n",
       "      <td>322.0</td>\n",
       "      <td>NaN</td>\n",
       "      <td>NaN</td>\n",
       "    </tr>\n",
       "    <tr>\n",
       "      <th>59916</th>\n",
       "      <td>130.0</td>\n",
       "      <td>NaN</td>\n",
       "      <td>NaN</td>\n",
       "    </tr>\n",
       "    <tr>\n",
       "      <th>80808</th>\n",
       "      <td>NaN</td>\n",
       "      <td>0.07</td>\n",
       "      <td>4310.0</td>\n",
       "    </tr>\n",
       "  </tbody>\n",
       "</table>\n",
       "</div>"
      ],
      "text/plain": [
       "       2010 Census Population  unemployment  participants\n",
       "1097                      NaN          0.33          42.0\n",
       "2860                  45199.0          0.11       34447.0\n",
       "37660                 40038.0           NaN           NaN\n",
       "46167                     NaN          0.02        4800.0\n",
       "57538                   322.0           NaN           NaN\n",
       "59916                   130.0           NaN           NaN\n",
       "80808                     NaN          0.07        4310.0"
      ]
     },
     "execution_count": 64,
     "metadata": {},
     "output_type": "execute_result"
    }
   ],
   "source": [
    "# Concatenation & outer join\n",
    "pd.concat([population, unemployment], axis=1, join='outer')"
   ]
  },
  {
   "cell_type": "code",
   "execution_count": 66,
   "metadata": {
    "scrolled": true
   },
   "outputs": [
    {
     "data": {
      "text/html": [
       "<div>\n",
       "<style scoped>\n",
       "    .dataframe tbody tr th:only-of-type {\n",
       "        vertical-align: middle;\n",
       "    }\n",
       "\n",
       "    .dataframe tbody tr th {\n",
       "        vertical-align: top;\n",
       "    }\n",
       "\n",
       "    .dataframe thead th {\n",
       "        text-align: right;\n",
       "    }\n",
       "</style>\n",
       "<table border=\"1\" class=\"dataframe\">\n",
       "  <thead>\n",
       "    <tr style=\"text-align: right;\">\n",
       "      <th></th>\n",
       "    </tr>\n",
       "  </thead>\n",
       "  <tbody>\n",
       "    <tr>\n",
       "      <th>57538</th>\n",
       "    </tr>\n",
       "    <tr>\n",
       "      <th>59916</th>\n",
       "    </tr>\n",
       "    <tr>\n",
       "      <th>37660</th>\n",
       "    </tr>\n",
       "    <tr>\n",
       "      <th>2860</th>\n",
       "    </tr>\n",
       "    <tr>\n",
       "      <th>2860</th>\n",
       "    </tr>\n",
       "    <tr>\n",
       "      <th>46167</th>\n",
       "    </tr>\n",
       "    <tr>\n",
       "      <th>1097</th>\n",
       "    </tr>\n",
       "    <tr>\n",
       "      <th>80808</th>\n",
       "    </tr>\n",
       "  </tbody>\n",
       "</table>\n",
       "</div>"
      ],
      "text/plain": [
       "Empty DataFrame\n",
       "Columns: []\n",
       "Index: [57538, 59916, 37660, 2860, 2860, 46167, 1097, 80808]"
      ]
     },
     "execution_count": 66,
     "metadata": {},
     "output_type": "execute_result"
    }
   ],
   "source": [
    "# Inner join on other axis\n",
    "pd.concat([population, unemployment], join='inner', axis=0)"
   ]
  },
  {
   "cell_type": "code",
   "execution_count": null,
   "metadata": {},
   "outputs": [],
   "source": []
  }
 ],
 "metadata": {
  "kernelspec": {
   "display_name": "Python 3",
   "language": "python",
   "name": "python3"
  },
  "language_info": {
   "codemirror_mode": {
    "name": "ipython",
    "version": 3
   },
   "file_extension": ".py",
   "mimetype": "text/x-python",
   "name": "python",
   "nbconvert_exporter": "python",
   "pygments_lexer": "ipython3",
   "version": "3.7.0"
  }
 },
 "nbformat": 4,
 "nbformat_minor": 2
}
